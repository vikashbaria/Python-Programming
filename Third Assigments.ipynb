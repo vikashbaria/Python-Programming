{
 "cells": [
  {
   "cell_type": "code",
   "execution_count": 33,
   "metadata": {},
   "outputs": [
    {
     "name": "stdout",
     "output_type": "stream",
     "text": [
      "Enter Operator to perform the task +\n",
      "Enter first value 2\n",
      "Enter second value 3\n",
      "Your Addition answer is 5\n"
     ]
    }
   ],
   "source": [
    "\"\"\"\n",
    "This is simple calculator which will take input from users with operator then perform the task and show the result.\n",
    "Date : 20/11/2019\n",
    "Created by Vikash \n",
    "Email : vikashbaria4@gmail.com \n",
    "Githutlink https://github.com/vikashbaria/Python-Programming\n",
    "\"\"\"\n",
    "operator = input(\"Enter Operator to perform the task \")\n",
    "\n",
    "val1 = int(input(\"Enter first value \"))\n",
    "\n",
    "val2 = int(input(\"Enter second value \"))\n",
    "\n",
    "if operator == '+':\n",
    "    result = val1+val2\n",
    "    print(\"Your Addition answer is \" + str(result))\n",
    "elif operator == '-':\n",
    "    result = val1-val2\n",
    "    print(\"Your Substraction answer is \" + str(result))\n",
    "elif operator == '*':\n",
    "    result = val1*val2\n",
    "    print(\"Your Multiplication answer is \" + str(result))\n",
    "elif operator == '/':\n",
    "    result = val1+val2\n",
    "    print(\"Your Division answer is \" + str(result))\n",
    "elif operator == '%':\n",
    "    result = val1%val2\n",
    "    print(\"Your Modulues answer is \" + str(result))\n",
    "    \n",
    "else:\n",
    "    print(\"We dont have that operator to perform your task \" + operator + \"\\n\\nPlease input any operator which is below mentioned:\\n\\t+,-,*,/,%\")\n"
   ]
  },
  {
   "cell_type": "code",
   "execution_count": 34,
   "metadata": {},
   "outputs": [
    {
     "name": "stdout",
     "output_type": "stream",
     "text": [
      "2\n",
      "3\n",
      "6\n",
      "4\n"
     ]
    }
   ],
   "source": [
    "\"\"\"\n",
    "This is list example program which will show you the int values number of leave str values\n",
    "The value of list [0] is string\n",
    "Date : 20/11/2019 is string that why its not print on out\n",
    "Created by Vikash \n",
    "Email : vikashbaria4@gmail.com \n",
    "Githutlink https://github.com/vikashbaria/Python-Programming \"\"\"\n",
    "\n",
    "\n",
    "lists =[\"1\",2,3,6,4,\"Vikash\",\"vikashbaria4@gmail.com\"]\n",
    "\n",
    "for lista in lists:\n",
    "    if type(lista) == int:\n",
    "        print(lista)"
   ]
  },
  {
   "cell_type": "code",
   "execution_count": null,
   "metadata": {},
   "outputs": [],
   "source": [
    "\"\"\"\n",
    "Write a Python script to add a key to a dictionary\n",
    "Date : 20/11/2019\n",
    "Created by Vikash \n",
    "Email : vikashbaria4@gmail.com \n",
    "Githutlink https://github.com/vikashbaria/Python-Programming\n",
    "\"\"\"\n",
    "\n",
    "dis = {\"value1\" : \"\" , \"value2\" :\"\"}\n",
    "print(dis)\n",
    "print(\"The dictionary keys has been added on above\")\n",
    "print(\"---------------------------------------------------------------\")\n",
    "#Adding Values of above mentioned keys\n",
    "dis['value1'] =\"12kafour\"\n",
    "dis['value2'] =\"four2ka1\"\n",
    "print(dis)\n",
    "\n",
    "\n",
    "\n",
    "\n"
   ]
  },
  {
   "cell_type": "code",
   "execution_count": 13,
   "metadata": {
    "scrolled": true
   },
   "outputs": [
    {
     "name": "stdout",
     "output_type": "stream",
     "text": [
      "Total sum of values in the dictionary:\n"
     ]
    },
    {
     "data": {
      "text/plain": [
       "879"
      ]
     },
     "execution_count": 13,
     "metadata": {},
     "output_type": "execute_result"
    }
   ],
   "source": [
    "d={'A':100,'B':540,'C':239}\n",
    "print(\"Total sum of values in the dictionary:\")\n",
    "sum(d.values())\n",
    "\n"
   ]
  },
  {
   "cell_type": "code",
   "execution_count": 42,
   "metadata": {},
   "outputs": [
    {
     "name": "stdout",
     "output_type": "stream",
     "text": [
      "2\n",
      "2\n",
      "6\n",
      "6\n",
      "---------------------------------------------\n",
      "\n"
     ]
    }
   ],
   "source": [
    "# pRogram 1 to show duplicates values \n",
    "l =[\"1\",2,2,6,6,\"Vikash\",\"vikashbaria4@gmail.com\"]\n",
    "\n",
    "for x in l:\n",
    "    if l.count(x) > 1:\n",
    "        print(x)\n",
    "\n",
    "print(\"---------------------------------------------\\n\")\n",
    "\n",
    "\n",
    " \n",
    "\n"
   ]
  },
  {
   "cell_type": "code",
   "execution_count": 49,
   "metadata": {},
   "outputs": [
    {
     "name": "stdout",
     "output_type": "stream",
     "text": [
      "2 is duplicate\n",
      "6 is duplicate\n"
     ]
    }
   ],
   "source": [
    "\n",
    "# Proragm 2 will show you how many duplicate values available on list\n",
    "my =[\"1\",2,2,6,6,\"Vikash\",\"vikashbaria4@gmail.com\"]\n",
    "\n",
    "dup =[]\n",
    "for i in my:\n",
    "    for j in dup:\n",
    "        if (i == j):\n",
    "            print(i , 'is duplicate')\n",
    "    dup.append(i)"
   ]
  },
  {
   "cell_type": "code",
   "execution_count": 9,
   "metadata": {},
   "outputs": [
    {
     "name": "stdout",
     "output_type": "stream",
     "text": [
      "Enter Any key for check duplicate values value1\n",
      "------------------------------------\n",
      "\n",
      "KEY IS ALREADY AVAILABLE {'value1': '', 'value2': ''}\n"
     ]
    }
   ],
   "source": [
    "#We will check dic key values if available\n",
    "keys = input(\"Enter Any key for check duplicate values \")\n",
    "disa = {\"value1\" : \"\" , \"value2\" :\"\"}\n",
    "for key,values in disa.items():\n",
    "    if key in keys:\n",
    "        print(\"------------------------------------\\n\")\n",
    "        print(\"KEY IS ALREADY AVAILABLE\", disa)"
   ]
  },
  {
   "cell_type": "code",
   "execution_count": 8,
   "metadata": {},
   "outputs": [
    {
     "name": "stdout",
     "output_type": "stream",
     "text": [
      "Yes, 'model' is one of the keys in the thisdict dictionary\n"
     ]
    }
   ],
   "source": [
    "thisdict = {\n",
    "  \"brand\": \"Ford\",\n",
    "  \"model\": \"Mustang\",\n",
    "  \"year\": 1964\n",
    "}\n",
    "if \"model\" in thisdict:\n",
    "  print(\"Yes, 'model' is one of the keys in the thisdict dictionary\")"
   ]
  },
  {
   "cell_type": "code",
   "execution_count": null,
   "metadata": {},
   "outputs": [],
   "source": []
  }
 ],
 "metadata": {
  "kernelspec": {
   "display_name": "Python 3",
   "language": "python",
   "name": "python3"
  },
  "language_info": {
   "codemirror_mode": {
    "name": "ipython",
    "version": 3
   },
   "file_extension": ".py",
   "mimetype": "text/x-python",
   "name": "python",
   "nbconvert_exporter": "python",
   "pygments_lexer": "ipython3",
   "version": "3.7.4"
  }
 },
 "nbformat": 4,
 "nbformat_minor": 2
}
