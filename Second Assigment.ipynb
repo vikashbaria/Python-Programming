{
 "cells": [
  {
   "cell_type": "code",
   "execution_count": 1,
   "metadata": {
    "scrolled": true
   },
   "outputs": [
    {
     "name": "stdout",
     "output_type": "stream",
     "text": [
      "Welcome to Check Your Online Grade\n",
      "-------------------------------------------------------------------\n",
      "\n",
      "Enter Your Urdu Subject Marks           100 / :\t100\n",
      "Enter Your English Subject Marks        100 / :\t100\n",
      "Enter Your Mathematics Subject Marks    50  / :\t50\n",
      "Enter Your Sindhi Subject Marks         50  / :\t50\n",
      "Enter Your Science Subject Marks        75  / :\t75\n",
      "\n",
      "\n",
      "\n",
      "-------------------------------------------------------------------\n",
      "\n",
      "Secured Marks : 375 / Obtained Marks 375\n",
      "According Your Obtained Marks Your percentage is 100%\n",
      "\n",
      "===================================================================\n",
      "\n",
      "Congratulation You are in A+ Grade\n",
      "\n",
      "===============Excellent===============\n",
      "\n"
     ]
    }
   ],
   "source": [
    "#Simple Python Code for Generate Grade \n",
    "#Created By Vikash\n",
    "#Email vikashbaria4@gmail.com\n",
    "# Wed 13 Nov 2019\n",
    "# Right Now I have static the number of secure marks which is 375 But you can change the secured marks from script.\n",
    "# Will share second script where secured marks will be dynamic according SSC,HSC,Boards.\n",
    "\n",
    "\n",
    "\n",
    "\n",
    "print(\"Welcome to Check Your Online Grade\\n-------------------------------------------------------------------\\n\")\n",
    "urdu        = int(input(\"Enter Your Urdu Subject Marks           100 / :\\t\"))\n",
    "english     = int(input(\"Enter Your English Subject Marks        100 / :\\t\"))\n",
    "math        = int(input(\"Enter Your Mathematics Subject Marks    50  / :\\t\"))\n",
    "sindhi      = int(input(\"Enter Your Sindhi Subject Marks         50  / :\\t\"))\n",
    "sci         = int(input(\"Enter Your Science Subject Marks        75  / :\\t\"))\n",
    "\n",
    "if urdu > 100:\n",
    "    print(\"Your Urdu secured marks is 100 and your input marks is = \" + str(urdu))\n",
    "    exit()\n",
    "\n",
    "    \n",
    "elif english > 100:\n",
    "    print(\"Your English secured marks is 100 and your input marks is = \" + str(english))\n",
    "    exit()\n",
    "\n",
    "elif math > 50:\n",
    "    print(\"Your Math secured marks is 50 and your input marks is = \" + str(math))\n",
    "    exit()\n",
    "    \n",
    "\n",
    "elif sindhi > 50:\n",
    "    print(\"Your Sindhi secured marks is 50 and your input marks is = \" + str(sindhi))\n",
    "    exit()\n",
    "    \n",
    "elif sci > 75:\n",
    "    print(\"Your Science secured marks is 75 and your input marks is = \" + str(sci))\n",
    "    exit()\n",
    "else:\n",
    "    print(\"\\n\")\n",
    "\n",
    "print(\"\\n-------------------------------------------------------------------\\n\")\n",
    "\n",
    "obtain =  urdu+english+math+sindhi+sci\n",
    "\n",
    "per = obtain*100/375\n",
    "total_marks = int(per)\n",
    "\n",
    "print(\"Secured Marks : 375 / Obtained Marks \" + str(obtain)+\"\\nAccording Your Obtained Marks Your percentage is \"+str(total_marks)+\"%\")\n",
    "print(\"\\n===================================================================\\n\")\n",
    "if total_marks <= 100 and total_marks  >= 90:\n",
    "    print(\"Congratulation You are in A+ Grade\")\n",
    "    print(\"\\n===============Excellent===============\\n\")\n",
    "elif total_marks <= 89 and total_marks  >= 80:\n",
    "    print(\"Congratulation You are in A Grade\")\n",
    "    print(\"\\n===============Very Good===============\\n\")\n",
    "elif total_marks <= 79 and total_marks  >= 70:\n",
    "    print(\"Congratulation You are in B Grade\")\n",
    "    print(\"\\n===============Good===============\\n\")\n",
    "elif total_marks <= 69 and total_marks  >= 60:\n",
    "    print(\"You are in C Grade\")\n",
    "    print(\"\\n===============Average===============\\n\")\n",
    "elif total_marks <= 59 and total_marks  >= 50:\n",
    "    print(\"You are in D Grade\")\n",
    "    print(\"\\n===============Below Average===============\\n\")\n",
    "elif total_marks <= 49 and total_marks  >= 40:\n",
    "    print(\"You are in E Grade\")\n",
    "    print(\"\\n===============Not Fair===============\\n\")\n",
    "elif total_marks <= 40 and total_marks  >= 80:\n",
    "    print(\" You are in F Grade\")\n",
    "    print(\"\\n===============Better Luck For Next Time===============\\n\")\n"
   ]
  },
  {
   "cell_type": "code",
   "execution_count": 6,
   "metadata": {
    "scrolled": true
   },
   "outputs": [
    {
     "name": "stdout",
     "output_type": "stream",
     "text": [
      "===================================================================\n",
      "Input One Digit on text box and we will let you know number is even or odd\n",
      "Please Input one number 1\n",
      "ODD\n"
     ]
    }
   ],
   "source": [
    "print(\"===================================================================\")\n",
    "print(\"Input One Digit on text box and we will let you know number is even or odd\")\n",
    "first_number =int(input(\"Please Input one number \"))\n",
    "if(first_number % 2) ==0:\n",
    "    print(\"Even\")\n",
    "else:\n",
    "    print(\"ODD\")"
   ]
  },
  {
   "cell_type": "code",
   "execution_count": 9,
   "metadata": {},
   "outputs": [
    {
     "name": "stdout",
     "output_type": "stream",
     "text": [
      "11\n"
     ]
    }
   ],
   "source": [
    "lenoflist = [1,2,3,4,5,'a','b',1.5,7,100,1000]\n",
    "#print(type(lenoflist))\n",
    "lenght_of_list = len(lenoflist)\n",
    "print(lenght_of_list)"
   ]
  },
  {
   "cell_type": "code",
   "execution_count": 23,
   "metadata": {},
   "outputs": [
    {
     "data": {
      "text/plain": [
       "1123.5"
      ]
     },
     "execution_count": 23,
     "metadata": {},
     "output_type": "execute_result"
    }
   ],
   "source": [
    "#IN THE PYTHON SUM IS FUNCTION FOR SUM NUMBERS I HAVE CREATED A LIST I HAVE AND USED SUM FUNCTION TO CALCULATE TOTAL NUMBER\n",
    "lenoflist = [1,2,3,4,5,1.5,7,100,1000]\n",
    "#print(type(lenoflist))\n",
    "sum(lenoflist)\n",
    "\n"
   ]
  },
  {
   "cell_type": "code",
   "execution_count": null,
   "metadata": {},
   "outputs": [],
   "source": [
    "lenoflist = [1,2,3,4,5,1.5,7,100,1000]\n"
   ]
  },
  {
   "cell_type": "code",
   "execution_count": 26,
   "metadata": {},
   "outputs": [
    {
     "name": "stdout",
     "output_type": "stream",
     "text": [
      "1000\n"
     ]
    }
   ],
   "source": [
    "lenoflist = [1,2,3,4,5,1.5,7,100,1000]\n",
    "print(max(lenoflist))"
   ]
  },
  {
   "cell_type": "code",
   "execution_count": 35,
   "metadata": {},
   "outputs": [
    {
     "name": "stdout",
     "output_type": "stream",
     "text": [
      "1\n",
      "1\n",
      "2\n",
      "3\n"
     ]
    }
   ],
   "source": [
    "a = [1, 1, 2, 3, 5, 8, 13, 21, 34, 55, 89]\n",
    "for abc in a:\n",
    "    if abc < 5:\n",
    "        print(abc)"
   ]
  },
  {
   "cell_type": "code",
   "execution_count": null,
   "metadata": {},
   "outputs": [],
   "source": []
  },
  {
   "cell_type": "code",
   "execution_count": null,
   "metadata": {},
   "outputs": [],
   "source": []
  },
  {
   "cell_type": "code",
   "execution_count": null,
   "metadata": {},
   "outputs": [],
   "source": []
  }
 ],
 "metadata": {
  "kernelspec": {
   "display_name": "Python 3",
   "language": "python",
   "name": "python3"
  },
  "language_info": {
   "codemirror_mode": {
    "name": "ipython",
    "version": 3
   },
   "file_extension": ".py",
   "mimetype": "text/x-python",
   "name": "python",
   "nbconvert_exporter": "python",
   "pygments_lexer": "ipython3",
   "version": "3.7.4"
  }
 },
 "nbformat": 4,
 "nbformat_minor": 2
}
