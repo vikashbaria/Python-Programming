{
 "cells": [
  {
   "cell_type": "code",
   "execution_count": 1,
   "metadata": {},
   "outputs": [
    {
     "name": "stdout",
     "output_type": "stream",
     "text": [
      "Welcome to Check Factorail Number\n",
      "-----------------------------------------\n",
      "Enter number for generate factorail 5\n",
      "The factorial of 5 is 120\n"
     ]
    }
   ],
   "source": [
    "#Started Work on Assigment 5\n",
    "# Start Date : 09/12/2019\n",
    "#Created By Vikash \n",
    "#Email vikashbaria4@gmail.com\n",
    "\n",
    "\n",
    "\"\"\"\n",
    "Q1 Write a Python function to calculate the factorial of a number (a non-negative\n",
    "integer). The function accepts the number as an argument.\n",
    "\n",
    "\"\"\"\n",
    "\n",
    "print(\"Welcome to Check Factorail Number\\n-----------------------------------------\")\n",
    "number = int(input(\"Enter number for generate factorail \"))\n",
    "def get_fac(number):\n",
    "    factorial = 1\n",
    "    if number < 0:\n",
    "        print(\"Sorry, factorial does not exist for negative numbers \")\n",
    "    elif number == 0:\n",
    "        print(\"The Factorail number 0 is 1\")\n",
    "    else:\n",
    "        for num in range(1,number+1):\n",
    "            factorial = factorial*num\n",
    "    print(\"The factorial of\",number,\"is\",factorial)\n",
    "            \n",
    "get_fac(number)"
   ]
  },
  {
   "cell_type": "code",
   "execution_count": 2,
   "metadata": {},
   "outputs": [
    {
     "name": "stdout",
     "output_type": "stream",
     "text": [
      "Count Char Values of Uper and Lower Case\n",
      "\n",
      "-----------------------------------------\n",
      "\n",
      "Enter any word with uper and lower case AAAAAAAAAc\n",
      "\n",
      "The Total Lenght of Input is 10\n",
      "-----------------------------------------\n",
      "\n",
      "Uper Case Alphabet 9 Lowe Case Alphabet 1\n"
     ]
    }
   ],
   "source": [
    "\"\"\"\n",
    "Question:2\n",
    "Write a Python function that accepts a string and calculate the number of upper\n",
    "case letters and lower case letters.\n",
    "\"\"\"\n",
    "print(\"Count Char Values of Uper and Lower Case\\n\\n-----------------------------------------\\n\")\n",
    "str_value = input(\"Enter any word with uper and lower case \")\n",
    "def count_lower_uper(str_value):\n",
    "            total_lenght = len(str_value)\n",
    "            print(\"\\nThe Total Lenght of Input is {}\".format(total_lenght)+\"\\n-----------------------------------------\\n\")\n",
    "            upper =0\n",
    "            lower = 0\n",
    "            for value in str_value:\n",
    "                if value.isupper():\n",
    "                    upper +=1\n",
    "                if value.islower():\n",
    "                    lower +=1\n",
    "            print(\"Uper Case Alphabet {} Lowe Case Alphabet {}\".format(str(upper),str(lower)))\n",
    "\n",
    "#Function Invoke here! --------------------------------------\n",
    "count_lower_uper(str_value)"
   ]
  },
  {
   "cell_type": "code",
   "execution_count": 68,
   "metadata": {},
   "outputs": [
    {
     "name": "stdout",
     "output_type": "stream",
     "text": [
      "How many number you want to add in list eg: 1,2,3 3\n",
      "Please enter number 6\n",
      "Please enter number 4\n",
      "Please enter number 9\n",
      "This is existing list [6, 4, 9]\n",
      "even numbers 6\n",
      "even numbers 4\n"
     ]
    }
   ],
   "source": [
    "\"\"\"\n",
    "Question:3\n",
    "Write a Python function to print the even numbers from a given list.\n",
    "\"\"\" \n",
    "listas = []\n",
    "number = int(input(\"How many number you want to add in list eg: 1,2,3 \")) \n",
    "\n",
    "for i in range(0, number): \n",
    "    ele = int(input(\"Please enter number \")) \n",
    "    listas.append(ele) # adding the element \n",
    " \n",
    "    \n",
    "def even(lista):\n",
    "    \n",
    "    for inp in lista:\n",
    "        check = inp %2\n",
    "        if check == 0:\n",
    "            \n",
    "            print(\"even number is\" + str(inp))\n",
    "        \n",
    "print(\"This is existing list \"+str(listas))\n",
    "even(listas)\n",
    "\n",
    "\n"
   ]
  },
  {
   "cell_type": "code",
   "execution_count": 75,
   "metadata": {},
   "outputs": [
    {
     "name": "stdout",
     "output_type": "stream",
     "text": [
      "Enter any plindrome word to check aaddd\n",
      "this is not a plindrome\n"
     ]
    }
   ],
   "source": [
    "\"\"\"\n",
    "Question:4\n",
    "Write a Python function that checks whether a passed string is palindrome or not.\n",
    "Note: A palindrome is a word, phrase, or sequence that reads the same\n",
    "backward as forward, e.g., madam\n",
    "\"\"\"\n",
    "word = input(\"Enter any plindrome word to check \").lower()\n",
    "word_rev = reversed(word)\n",
    "def is_palindrome(word):\n",
    "    if list(word) == list(word_rev):\n",
    "        print('It is a palindrome')\n",
    "    else:\n",
    "        print('this is not a plindrome')\n",
    "\n",
    "is_palindrome(word)"
   ]
  },
  {
   "cell_type": "code",
   "execution_count": 93,
   "metadata": {},
   "outputs": [
    {
     "name": "stdout",
     "output_type": "stream",
     "text": [
      "Enter Number to check prime number 13\n",
      "13 is a prime\n"
     ]
    }
   ],
   "source": [
    "\n",
    "\"\"\"\n",
    "Question:5\n",
    "Write a Python function that takes a number as a parameter and check the\n",
    "number is prime or not.\n",
    "\"\"\"\n",
    "number = int(input(\"Enter Number to check prime number \"))\n",
    "\n",
    "def prime(number):\n",
    "    if number > 1:\n",
    "        for i in range(2,number):\n",
    "            if(number % i) == 0:\n",
    "                print(str(number) + \" is not a prime\")\n",
    "                break\n",
    "        else:\n",
    "            print(str(number)+\" is a prime\")\n",
    "    else:\n",
    "        print(str(number) + \" is not a prime\")\n",
    "            \n",
    "        \n",
    "\n",
    "    \n",
    "    \n",
    "    \n",
    "    \n",
    "    \n",
    "prime(number)"
   ]
  },
  {
   "cell_type": "code",
   "execution_count": 52,
   "metadata": {},
   "outputs": [
    {
     "name": "stdout",
     "output_type": "stream",
     "text": [
      "This function is showing bought details\n",
      "I have bought Denim jeans with Calvin Klein T-shirt\n",
      "\n",
      "------------------------------\n",
      "This items is remaning for purchase\n",
      "Leather Belt\n",
      "LV Cap\n"
     ]
    }
   ],
   "source": [
    "\"\"\"\n",
    "Question: 6\n",
    "Suppose a customer is shopping in a market and you need to print all the items\n",
    "which user bought from market.\n",
    "Write a function which accepts the multiple arguments of user shopping list and\n",
    "print all the items which user bought from market.\n",
    "\"\"\"\n",
    "\n",
    "\n",
    "def shop(*otherproducts,jeans,tshirt):\n",
    "    print(\"This function is showing bought details\")\n",
    "    print(\"I have bought {} jeans with {} T-shirt\".format(jeans,tshirt))\n",
    "    print(\"\\n------------------------------\\nThis items is remaning for purchase\")\n",
    "    for other in otherproducts:\n",
    "        print(other)\n",
    "    \n",
    "\n",
    "shop('Leather Belt','LV Cap',jeans='Denim',tshirt='Calvin Klein')"
   ]
  },
  {
   "cell_type": "code",
   "execution_count": 46,
   "metadata": {},
   "outputs": [
    {
     "name": "stdout",
     "output_type": "stream",
     "text": [
      "This function is showing my own details\n",
      "My name is Vikash Baria and I doing freelance on Upwork\n",
      "private\n",
      "https://www.upwork.com/freelancers/~01f5a825ac35115863\n"
     ]
    }
   ],
   "source": [
    "def freelance(platform,*others,name):\n",
    "    print(\"This function is showing my own details\")\n",
    "    \n",
    "    \n",
    "    print(\"My name is {} and I doing freelance on {}\".format(name,platform))\n",
    "    for values in others:\n",
    "        print(values)\n",
    "    \n",
    "\n",
    "freelance('Upwork','private','https://www.upwork.com/freelancers/~01f5a825ac35115863',name='Vikash Baria')"
   ]
  },
  {
   "cell_type": "code",
   "execution_count": null,
   "metadata": {},
   "outputs": [],
   "source": []
  }
 ],
 "metadata": {
  "kernelspec": {
   "display_name": "Python 3",
   "language": "python",
   "name": "python3"
  },
  "language_info": {
   "codemirror_mode": {
    "name": "ipython",
    "version": 3
   },
   "file_extension": ".py",
   "mimetype": "text/x-python",
   "name": "python",
   "nbconvert_exporter": "python",
   "pygments_lexer": "ipython3",
   "version": "3.7.4"
  }
 },
 "nbformat": 4,
 "nbformat_minor": 2
}
